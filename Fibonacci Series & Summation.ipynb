{
 "cells": [
  {
   "cell_type": "code",
   "execution_count": 8,
   "id": "ffbf80c5-88b6-44ee-8eea-d09a0d3444c9",
   "metadata": {},
   "outputs": [
    {
     "ename": "IndentationError",
     "evalue": "unexpected indent (3749318219.py, line 11)",
     "output_type": "error",
     "traceback": [
      "\u001b[1;36m  Cell \u001b[1;32mIn[8], line 11\u001b[1;36m\u001b[0m\n\u001b[1;33m    print(\"Please enter a positive integer.\")\u001b[0m\n\u001b[1;37m    ^\u001b[0m\n\u001b[1;31mIndentationError\u001b[0m\u001b[1;31m:\u001b[0m unexpected indent\n"
     ]
    }
   ],
   "source": [
    "ini = [0, 1]\n",
    "def fib_ser(n):\n",
    "    for i in range(2, n):\n",
    "        x = ini[-1] + ini[-2]\n",
    "        ini.append(x)\n",
    "    return ini, sum(ini)\n",
    "\n",
    "\n",
    "n = 1000\n",
    "\n",
    "if n <= 0:\n",
    "    print(\"Please enter a positive integer.\")\n",
    "else:\n",
    "    series, total = fib_ser(n)\n",
    "    print(\"The Fibonacci series is:\\n\", series)\n",
    "    print(\"The Summation:\", total)"
   ]
  },
  {
   "cell_type": "code",
   "execution_count": null,
   "id": "3fd7d91b-c519-4d4d-ae97-4cabbae6edc3",
   "metadata": {},
   "outputs": [],
   "source": []
  }
 ],
 "metadata": {
  "kernelspec": {
   "display_name": "Python 3 (ipykernel)",
   "language": "python",
   "name": "python3"
  },
  "language_info": {
   "codemirror_mode": {
    "name": "ipython",
    "version": 3
   },
   "file_extension": ".py",
   "mimetype": "text/x-python",
   "name": "python",
   "nbconvert_exporter": "python",
   "pygments_lexer": "ipython3",
   "version": "3.12.7"
  }
 },
 "nbformat": 4,
 "nbformat_minor": 5
}
