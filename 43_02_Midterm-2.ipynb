{
 "cells": [
  {
   "cell_type": "code",
   "execution_count": null,
   "id": "cade2190-0698-4463-867d-d1e8e7dd41a9",
   "metadata": {},
   "outputs": [],
   "source": [
    "import numpy as np\n",
    "User_ID = [] \n",
    "Age = []\n",
    "Gender = []\n",
    "Total_App_Usage_Hours = []\n",
    "Daily_Screen_Time_Hours = []\n",
    "Number_of_Apps_Used = []\n",
    "Social_Media_Usage_Hours = []\n",
    "Productivity_App_Usage_Hours = [] \n",
    "Gaming_App_Usage_Hours = [] \n",
    "Location = []\n",
    "\n",
    "data = open('E:\\Study\\Python\\Edge Course\\mobile_usage_behavioral_analysis.csv','r')\n",
    "head = data.readline()\n",
    "body = data.readline()\n",
    "while (len(body)>0):\n",
    "    arr = body.strip().split(',')\n",
    "    User_ID.append(int(arr[0]))\n",
    "    Age.append(int(arr[1]))\n",
    "    Gender.append(arr[2])\n",
    "    Total_App_Usage_Hours.append(float(arr[3]))\n",
    "    Daily_Screen_Time_Hours.append(float(arr[4]))\n",
    "    Number_of_Apps_Used.append(float(arr[5]))\n",
    "    Social_Media_Usage_Hours.append(float(arr[6]))\n",
    "    Productivity_App_Usage_Hours.append(float(arr[7]))\n",
    "    Gaming_App_Usage_Hours.append(float(arr[8]))\n",
    "    Location.append(arr[9])\n",
    "    body = data.readline()\n",
    "data.close()"
   ]
  }
 ],
 "metadata": {
  "kernelspec": {
   "display_name": "Python 3 (ipykernel)",
   "language": "python",
   "name": "python3"
  },
  "language_info": {
   "codemirror_mode": {
    "name": "ipython",
    "version": 3
   },
   "file_extension": ".py",
   "mimetype": "text/x-python",
   "name": "python",
   "nbconvert_exporter": "python",
   "pygments_lexer": "ipython3",
   "version": "3.12.7"
  }
 },
 "nbformat": 4,
 "nbformat_minor": 5
}
